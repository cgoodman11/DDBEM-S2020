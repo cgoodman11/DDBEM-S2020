{
 "cells": [
  {
   "cell_type": "markdown",
   "metadata": {},
   "source": [
    "## This is a test file"
   ]
  },
  {
   "cell_type": "code",
   "execution_count": 1,
   "metadata": {},
   "outputs": [
    {
     "name": "stdout",
     "output_type": "stream",
     "text": [
      "3\n"
     ]
    }
   ],
   "source": [
    "a=1\n",
    "b=2\n",
    "print(a+b)"
   ]
  },
  {
   "cell_type": "code",
   "execution_count": 1,
   "metadata": {},
   "outputs": [
    {
     "name": "stdout",
     "output_type": "stream",
     "text": [
      "On branch master\r\n",
      "Your branch is up to date with 'origin/master'.\r\n",
      "\r\n",
      "Untracked files:\r\n",
      "  (use \"git add <file>...\" to include in what will be committed)\r\n",
      "\r\n",
      "\t\u001b[31m.ipynb_checkpoints/\u001b[m\r\n",
      "\t\u001b[31mTest Notebook.ipynb\u001b[m\r\n",
      "\r\n",
      "nothing added to commit but untracked files present (use \"git add\" to track)\r\n"
     ]
    }
   ],
   "source": [
    "!git status"
   ]
  },
  {
   "cell_type": "code",
   "execution_count": 3,
   "metadata": {},
   "outputs": [
    {
     "name": "stdout",
     "output_type": "stream",
     "text": [
      "[master 6f696bf] Made my first commit\n",
      " 1 file changed, 58 insertions(+)\n",
      " create mode 100644 TestNotebook.ipynb\n",
      "Username for 'https://github.com': ^C\n"
     ]
    }
   ],
   "source": [
    "!git add TestNotebook.ipynb\n",
    "!git commit -m \"Made my first commit\"\n",
    "!git push origin master"
   ]
  },
  {
   "cell_type": "code",
   "execution_count": 6,
   "metadata": {},
   "outputs": [
    {
     "name": "stdout",
     "output_type": "stream",
     "text": [
      "usage: git config [<options>]\r\n",
      "\r\n",
      "Config file location\r\n",
      "    --global              use global config file\r\n",
      "    --system              use system config file\r\n",
      "    --local               use repository config file\r\n",
      "    --worktree            use per-worktree config file\r\n",
      "    -f, --file <file>     use given config file\r\n",
      "    --blob <blob-id>      read config from given blob object\r\n",
      "\r\n",
      "Action\r\n",
      "    --get                 get value: name [value-regex]\r\n",
      "    --get-all             get all values: key [value-regex]\r\n",
      "    --get-regexp          get values for regexp: name-regex [value-regex]\r\n",
      "    --get-urlmatch        get value specific for the URL: section[.var] URL\r\n",
      "    --replace-all         replace all matching variables: name value [value_regex]\r\n",
      "    --add                 add a new variable: name value\r\n",
      "    --unset               remove a variable: name [value-regex]\r\n",
      "    --unset-all           remove all matches: name [value-regex]\r\n",
      "    --rename-section      rename section: old-name new-name\r\n",
      "    --remove-section      remove a section: name\r\n",
      "    -l, --list            list all\r\n",
      "    -e, --edit            open an editor\r\n",
      "    --get-color           find the color configured: slot [default]\r\n",
      "    --get-colorbool       find the color setting: slot [stdout-is-tty]\r\n",
      "\r\n",
      "Type\r\n",
      "    -t, --type <>         value is given this type\r\n",
      "    --bool                value is \"true\" or \"false\"\r\n",
      "    --int                 value is decimal number\r\n",
      "    --bool-or-int         value is --bool or --int\r\n",
      "    --path                value is a path (file or directory name)\r\n",
      "    --expiry-date         value is an expiry date\r\n",
      "\r\n",
      "Other\r\n",
      "    -z, --null            terminate values with NUL byte\r\n",
      "    --name-only           show variable names only\r\n",
      "    --includes            respect include directives on lookup\r\n",
      "    --show-origin         show origin of config (file, standard input, blob, command line)\r\n",
      "    --default <value>     with --get, use default value when missing entry\r\n",
      "\r\n"
     ]
    }
   ],
   "source": [
    "!git config --global  "
   ]
  },
  {
   "cell_type": "code",
   "execution_count": null,
   "metadata": {},
   "outputs": [],
   "source": []
  }
 ],
 "metadata": {
  "kernelspec": {
   "display_name": "Python 3",
   "language": "python",
   "name": "python3"
  },
  "language_info": {
   "codemirror_mode": {
    "name": "ipython",
    "version": 3
   },
   "file_extension": ".py",
   "mimetype": "text/x-python",
   "name": "python",
   "nbconvert_exporter": "python",
   "pygments_lexer": "ipython3",
   "version": "3.7.6"
  }
 },
 "nbformat": 4,
 "nbformat_minor": 4
}
